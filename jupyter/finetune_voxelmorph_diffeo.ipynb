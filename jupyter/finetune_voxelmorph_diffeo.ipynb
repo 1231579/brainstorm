{
 "cells": [
  {
   "cell_type": "code",
   "execution_count": 1,
   "metadata": {},
   "outputs": [
    {
     "name": "stderr",
     "output_type": "stream",
     "text": [
      "Using TensorFlow backend.\n",
      "../cnn_utils/vis_utils.py:14: UserWarning: matplotlib.pyplot as already been imported, this call will have no effect.\n",
      "  mpl.use('Agg')\n"
     ]
    }
   ],
   "source": [
    "%load_ext autoreload\n",
    "%autoreload 2\n",
    "import json\n",
    "import os\n",
    "import sys\n",
    "\n",
    "import keras.backend as K\n",
    "from keras.models import load_model\n",
    "from keras.optimizers import Adam\n",
    "import numpy as np\n",
    "import tensorflow as tf\n",
    "\n",
    "from dataset_utils import adni_loader\n",
    "#from networks import transform_network_utils\n",
    "\n",
    "sys.path.append('../neuron')\n",
    "sys.path.append('../voxelmorph')\n",
    "import src.losses as vm_losses\n",
    "\n",
    "gpu_ids = [0]\n",
    "# set gpu id and tf settings\n",
    "os.environ['CUDA_VISIBLE_DEVICES']=','.join([str(g) for g in gpu_ids])\n",
    "config = tf.ConfigProto()\n",
    "config.gpu_options.allow_growth = True\n",
    "K.tensorflow_backend.set_session(tf.Session(config=config))\n",
    "\n",
    "import sys\n",
    "sys.path.append('../voxelmorph-sandbox')\n",
    "import voxelmorph.networks as vm_networks\n",
    "import tensorflow as tf\n",
    "from voxelmorph import dense_3D_spatial_transformer\n",
    "from keras.models import load_model\n",
    " \n",
    "sys.path.append('../neuron')\n",
    "import neuron.layers as nrn_layers\n",
    "import neuron.utils as nrn_utils\n",
    "sys.path.append('../voxelmorph-sandbox')\n",
    "import voxelmorph.networks as vm_networks\n",
    "from voxelmorph.dense_3D_spatial_transformer import Dense3DSpatialTransformer\n"
   ]
  },
  {
   "cell_type": "markdown",
   "metadata": {},
   "source": [
    "Load training dataset"
   ]
  },
  {
   "cell_type": "code",
   "execution_count": 2,
   "metadata": {},
   "outputs": [
    {
     "name": "stderr",
     "output_type": "stream",
     "text": [
      "../cnn_utils/vis_utils.py:14: UserWarning: matplotlib.pyplot as already been imported, this call will have no effect.\n",
      "  mpl.use('Agg')\n"
     ]
    },
    {
     "name": "stdout",
     "output_type": "stream",
     "text": [
      "Loading adni dataset adni-unnorm-masked_100ul_subj-OASIS_OAS1_0327-l\n",
      "Params: {'dataset_name': 'adni', 'source_name': 'atl', 'target_name': 'subjs', 'unnormalized': True, 'masked': True, 'n_shot': 1, 'use_atlas_as_source': False, 'use_subject': 'OASIS_OAS1_0327_MR1_mri_talairach_orig', 'img_shape': (160, 192, 224, 1), 'pred_img_shape': (160, 192, 1), 'aug_img_shape': (160, 192, 224, 1), 'n_unlabeled': 100, 'n_validation': 50, 'load_vols': True, 'aug_in_gen': True, 'n_vte_aug': None, 'n_flow_aug': None, 'use_labels': [0, 16, 10, 49, 8, 47, 4, 43, 7, 46, 12, 51, 2, 41, 28, 60, 11, 50, 13, 52, 17, 53, 14, 15, 18, 54, 24, 3, 42, 31, 63], 'final_test': False, 'warp_labels': True, 'n_dims': 3, 'orig_img_shape': (160, 192, 224, 1), 'scale': 1.0, 'split_id': None}\n",
      "Got list of 7329 files from /data/ddmg/voxelmorph/data/t1_mix/proc/resize256-crop_x32/train/origs/*.npz:\n",
      "ADNI_ADNI-3T-FS-5.3-Long_293689.long.016_S_4591_base_mri_talairach_orig.npz\n",
      "ADNI_ADNI-3T-FS-5.3-Long_78841.long.016_S_1326_base_mri_talairach_orig.npz\n",
      "ADNI_ADNI-1.5T-FS-5.3-Long_436815.long.094_S_1330_base_mri_talairach_orig.npz\n",
      "ADNI_ADNI-3T-FS-5.3-Long_296323.long.068_S_2168_base_mri_talairach_orig.npz\n",
      "ADNI_ADNI-3T-FS-5.3-Long_388923.long.135_S_5273_base_mri_talairach_orig.npz\n",
      "ADNI_ADNI-3T-FS-5.3-Long_272700.long.009_S_4388_base_mri_talairach_orig.npz\n",
      "ADNI_ADNI-1.5T-FS-5.3-Long_394785.long.027_S_0408_base_mri_talairach_orig.npz\n",
      "PPMI_3519_mri_talairach_orig.npz\n",
      "ADNI_ADNI-3T-FS-5.3-Long_119158.long.053_S_0507_base_mri_talairach_orig.npz\n",
      "ADNI_ADNI-1.5T-FS-5.3-Long_63306.long.007_S_0249_base_mri_talairach_orig.npz\n",
      "ABIDE_50685_mri_talairach_orig.npz\n",
      "ADNI_ADNI-1.5T-FS-5.3-Long_121666.long.041_S_1423_base_mri_talairach_orig.npz\n",
      "GSP_120719_TT88SP_FS_mri_talairach_orig.npz\n",
      "COBRE_0040043_mri_talairach_orig.npz\n",
      "ADNI_ADNI-3T-FS-5.3-Long_416015.long.021_S_2124_base_mri_talairach_orig.npz\n",
      "...\n",
      "Got 102 training and 50 validation files!\n",
      "Loaded 0 of 2 files\n",
      "Labeled train vols:\n",
      "X_labeled_train: (2, 160, 192, 224, 1)\n",
      "Y_labeled_train: (2, 160, 192, 224)\n",
      "ids_labeled_train: ['OASIS_OAS1_0327_MR1_mri_talairach_orig', 'OASIS_OAS1_0327_MR1_mri_talairach_orig']\n",
      "Loaded 0 of 50 files\n",
      "Loaded 0 of 100 files\n",
      "Filtering labels to [0, 16, 10, 49, 8, 47, 4, 43, 7, 46, 12, 51, 2, 41, 28, 60, 11, 50, 13, 52, 17, 53, 14, 15, 18, 54, 24, 3, 42, 31, 63]\n"
     ]
    }
   ],
   "source": [
    "dataset_key = 'adni-3d-100-unnorm-masked-csts2'\n",
    "import vte_runner\n",
    "data_params = vte_runner.named_vte_data_params[dataset_key]\n",
    "    \n",
    "ds = adni_loader.ADNIDataset(data_params)\n",
    "\n",
    "vol_shape = tuple(data_params['img_shape'])\n",
    "\n",
    "# just load some examples so we can get the image size, but actually use a generator later...\n",
    "(X_unlabeled, _, ids_unlabeled),\\\n",
    "(X_labeled_train, Y_labeled_train, ids_labeled_train), \\\n",
    "(X_labeled_valid, Y_labeled_valid, ids_labeled_valid), \\\n",
    "label_mapping \\\n",
    "= ds.load_dataset(debug=False)"
   ]
  },
  {
   "cell_type": "code",
   "execution_count": 3,
   "metadata": {},
   "outputs": [
    {
     "name": "stdout",
     "output_type": "stream",
     "text": [
      "(100, 160, 192, 224, 1)\n",
      "(2, 160, 192, 224, 1)\n",
      "(50, 160, 192, 224, 1)\n",
      "['/data/ddmg/voxelmorph/data/t1_mix/proc/resize256-crop_x32/train/origs/OASIS_OAS1_0327_MR1_mri_talairach_orig.npz', '/data/ddmg/voxelmorph/data/t1_mix/proc/resize256-crop_x32/train/origs/OASIS_OAS1_0327_MR1_mri_talairach_orig.npz']\n",
      "True\n"
     ]
    },
    {
     "data": {
      "image/png": "[encoded data removed]",
      "text/plain": [
       "<PIL.Image.Image image mode=L size=192x160 at 0x7F65C84DA860>"
      ]
     },
     "metadata": {},
     "output_type": "display_data"
    },
    {
     "data": {
      "image/png": "[encoded data removed]",
      "text/plain": [
       "<PIL.Image.Image image mode=L size=192x160 at 0x7F65C84DA940>"
      ]
     },
     "metadata": {},
     "output_type": "display_data"
    }
   ],
   "source": [
    "print(X_unlabeled.shape)\n",
    "print(X_labeled_train.shape)\n",
    "print(X_labeled_valid.shape)\n",
    "print(ds.files_labeled_train)\n",
    "print(ds.params['load_vols'])\n",
    "import IPython\n",
    "import PIL\n",
    "IPython.display.display(PIL.Image.fromarray((X_labeled_train[0, :, :, 64, 0]*255).astype(np.uint8)))\n",
    "IPython.display.display(PIL.Image.fromarray((X_unlabeled[0, :, :, 64, 0]*255).astype(np.uint8)))\n"
   ]
  },
  {
   "cell_type": "code",
   "execution_count": 4,
   "metadata": {
    "scrolled": false
   },
   "outputs": [
    {
     "name": "stdout",
     "output_type": "stream",
     "text": [
      "[(None, 160, 192, 224, 1), (None, 160, 192, 224, 3)]\n",
      "[(None, 160, 192, 224, 1), (None, 160, 192, 224, 3)]\n"
     ]
    }
   ],
   "source": [
    "K.clear_session()\n",
    "\n",
    "start_iter = 0\n",
    "voxelmorph_model = load_model(\n",
    "    #'/afs/csail.mit.edu/u/x/xamyzhao/voxelmorph/models/vm2_cc.h5',\n",
    "    './experiments/voxelmorph/vm2_cc_AtoUMS_newdataset_iter100000.h5',#.format(start_iter),\n",
    "    custom_objects={'Dense3DSpatialTransformer': Dense3DSpatialTransformer,\n",
    "                   'SpatialTransformer': nrn_layers.SpatialTransformer,\n",
    "                   },\n",
    "    compile=False,\n",
    ")\n",
    "# voxelmorph_model = load_model(\n",
    "#     './experiments/voxelmorph/vm2_cc_AtoUMS_newdataset_100k_bidir_iter{}.h5'.format(start_iter),\n",
    "#     custom_objects={'Dense3DSpatialTransformer': dense_3D_spatial_transformer.Dense3DSpatialTransformer, \n",
    "#                     'interp_upsampling': vm_networks.interp_upsampling,\n",
    "#                     'meshgrid': vm_networks.meshgrid,\n",
    "#                     'tf': tf,\n",
    "                    \n",
    "#                     'VecInt': nrn_layers.VecInt,\n",
    "#                     'SpatialTransformer': nrn_layers.SpatialTransformer,\n",
    "#                     'nrn_utils': nrn_utils,\n",
    "#                     'nrn_layers': nrn_layers,\n",
    "#                    },\n",
    "#     compile=False,\n",
    "# )\n",
    "# create diffeomorphic model\n",
    "sys.path.append('../voxelmorph')\n",
    "import src.networks as vm_networks\n",
    "nf_dec = [32, 32, 32, 32, 16, 16, 3]\n",
    "vm_diffeo_model = vm_networks.miccai2018_bidir(\n",
    "    (160, 192, 224),\n",
    "    [16, 32, 32, 32],\n",
    "    nf_dec,\n",
    "    bidir=True,\n",
    "    halfres=False,\n",
    "    indexing='xy'\n",
    ")\n",
    "\n"
   ]
  },
  {
   "cell_type": "code",
   "execution_count": 5,
   "metadata": {},
   "outputs": [
    {
     "name": "stdout",
     "output_type": "stream",
     "text": [
      "__________________________________________________________________________________________________\n",
      "Layer (type)                    Output Shape         Param #     Connected to                     \n",
      "==================================================================================================\n",
      "input_1 (InputLayer)            (None, 160, 192, 224 0                                            \n",
      "__________________________________________________________________________________________________\n",
      "input_2 (InputLayer)            (None, 160, 192, 224 0                                            \n",
      "__________________________________________________________________________________________________\n",
      "concatenate_1 (Concatenate)     (None, 160, 192, 224 0           input_1[0][0]                    \n",
      "                                                                 input_2[0][0]                    \n",
      "__________________________________________________________________________________________________\n",
      "conv3d_1 (Conv3D)               (None, 80, 96, 112,  880         concatenate_1[0][0]              \n",
      "__________________________________________________________________________________________________\n",
      "leaky_re_lu_1 (LeakyReLU)       (None, 80, 96, 112,  0           conv3d_1[0][0]                   \n",
      "__________________________________________________________________________________________________\n",
      "conv3d_2 (Conv3D)               (None, 40, 48, 56, 3 13856       leaky_re_lu_1[0][0]              \n",
      "__________________________________________________________________________________________________\n",
      "leaky_re_lu_2 (LeakyReLU)       (None, 40, 48, 56, 3 0           conv3d_2[0][0]                   \n",
      "__________________________________________________________________________________________________\n",
      "conv3d_3 (Conv3D)               (None, 20, 24, 28, 3 27680       leaky_re_lu_2[0][0]              \n",
      "__________________________________________________________________________________________________\n",
      "leaky_re_lu_3 (LeakyReLU)       (None, 20, 24, 28, 3 0           conv3d_3[0][0]                   \n",
      "__________________________________________________________________________________________________\n",
      "conv3d_4 (Conv3D)               (None, 10, 12, 14, 3 27680       leaky_re_lu_3[0][0]              \n",
      "__________________________________________________________________________________________________\n",
      "leaky_re_lu_4 (LeakyReLU)       (None, 10, 12, 14, 3 0           conv3d_4[0][0]                   \n",
      "__________________________________________________________________________________________________\n",
      "conv3d_5 (Conv3D)               (None, 10, 12, 14, 3 27680       leaky_re_lu_4[0][0]              \n",
      "__________________________________________________________________________________________________\n",
      "leaky_re_lu_5 (LeakyReLU)       (None, 10, 12, 14, 3 0           conv3d_5[0][0]                   \n",
      "__________________________________________________________________________________________________\n",
      "up_sampling3d_1 (UpSampling3D)  (None, 20, 24, 28, 3 0           leaky_re_lu_5[0][0]              \n",
      "__________________________________________________________________________________________________\n",
      "concatenate_2 (Concatenate)     (None, 20, 24, 28, 6 0           up_sampling3d_1[0][0]            \n",
      "                                                                 leaky_re_lu_3[0][0]              \n",
      "__________________________________________________________________________________________________\n",
      "conv3d_6 (Conv3D)               (None, 20, 24, 28, 3 55328       concatenate_2[0][0]              \n",
      "__________________________________________________________________________________________________\n",
      "leaky_re_lu_6 (LeakyReLU)       (None, 20, 24, 28, 3 0           conv3d_6[0][0]                   \n",
      "__________________________________________________________________________________________________\n",
      "up_sampling3d_2 (UpSampling3D)  (None, 40, 48, 56, 3 0           leaky_re_lu_6[0][0]              \n",
      "__________________________________________________________________________________________________\n",
      "concatenate_3 (Concatenate)     (None, 40, 48, 56, 6 0           up_sampling3d_2[0][0]            \n",
      "                                                                 leaky_re_lu_2[0][0]              \n",
      "__________________________________________________________________________________________________\n",
      "conv3d_7 (Conv3D)               (None, 40, 48, 56, 3 55328       concatenate_3[0][0]              \n",
      "__________________________________________________________________________________________________\n",
      "leaky_re_lu_7 (LeakyReLU)       (None, 40, 48, 56, 3 0           conv3d_7[0][0]                   \n",
      "__________________________________________________________________________________________________\n",
      "up_sampling3d_3 (UpSampling3D)  (None, 80, 96, 112,  0           leaky_re_lu_7[0][0]              \n",
      "__________________________________________________________________________________________________\n",
      "concatenate_4 (Concatenate)     (None, 80, 96, 112,  0           up_sampling3d_3[0][0]            \n",
      "                                                                 leaky_re_lu_1[0][0]              \n",
      "__________________________________________________________________________________________________\n",
      "conv3d_8 (Conv3D)               (None, 80, 96, 112,  41504       concatenate_4[0][0]              \n",
      "__________________________________________________________________________________________________\n",
      "leaky_re_lu_8 (LeakyReLU)       (None, 80, 96, 112,  0           conv3d_8[0][0]                   \n",
      "__________________________________________________________________________________________________\n",
      "conv3d_9 (Conv3D)               (None, 80, 96, 112,  13840       leaky_re_lu_8[0][0]              \n",
      "__________________________________________________________________________________________________\n",
      "leaky_re_lu_9 (LeakyReLU)       (None, 80, 96, 112,  0           conv3d_9[0][0]                   \n",
      "__________________________________________________________________________________________________\n",
      "up_sampling3d_4 (UpSampling3D)  (None, 160, 192, 224 0           leaky_re_lu_9[0][0]              \n",
      "__________________________________________________________________________________________________\n",
      "concatenate_5 (Concatenate)     (None, 160, 192, 224 0           up_sampling3d_4[0][0]            \n",
      "                                                                 concatenate_1[0][0]              \n",
      "__________________________________________________________________________________________________\n",
      "conv3d_10 (Conv3D)              (None, 160, 192, 224 7792        concatenate_5[0][0]              \n",
      "__________________________________________________________________________________________________\n",
      "leaky_re_lu_10 (LeakyReLU)      (None, 160, 192, 224 0           conv3d_10[0][0]                  \n",
      "__________________________________________________________________________________________________\n",
      "conv3d_11 (Conv3D)              (None, 160, 192, 224 1299        leaky_re_lu_10[0][0]             \n",
      "__________________________________________________________________________________________________\n",
      "leaky_re_lu_11 (LeakyReLU)      (None, 160, 192, 224 0           conv3d_11[0][0]                  \n",
      "__________________________________________________________________________________________________\n",
      "flow (Conv3D)                   (None, 160, 192, 224 246         leaky_re_lu_11[0][0]             \n",
      "__________________________________________________________________________________________________\n",
      "lambda_1 (Lambda)               (None, 160, 192, 224 0           flow[0][0]                       \n",
      "__________________________________________________________________________________________________\n",
      "flow-int (VecInt)               (None, 160, 192, 224 0           flow[0][0]                       \n",
      "__________________________________________________________________________________________________\n",
      "neg_flow-int (VecInt)           (None, 160, 192, 224 0           lambda_1[0][0]                   \n",
      "__________________________________________________________________________________________________\n",
      "spatial_transformer_1 (SpatialT [(None, 160, 192, 22 0           input_1[0][0]                    \n",
      "                                                                 flow-int[0][0]                   \n",
      "__________________________________________________________________________________________________\n",
      "spatial_transformer_2 (SpatialT [(None, 160, 192, 22 0           input_2[0][0]                    \n",
      "                                                                 neg_flow-int[0][0]               \n",
      "__________________________________________________________________________________________________\n",
      "lambda_xy_to_ij_flow (Lambda)   (None, 160, 192, 224 0           flow-int[0][0]                   \n",
      "__________________________________________________________________________________________________\n",
      "lambda_xy_to_ij_negflow (Lambda (None, 160, 192, 224 0           neg_flow-int[0][0]               \n",
      "==================================================================================================\n",
      "Total params: 273,113\n",
      "Trainable params: 273,113\n",
      "Non-trainable params: 0\n",
      "__________________________________________________________________________________________________\n"
     ]
    }
   ],
   "source": [
    "vm_diffeo_model.summary()\n",
    "import data_utils\n",
    "import src.losses as vm_losses\n",
    "\n",
    "# just train voxelmorph\n",
    "vm_diffeo_model.compile(\n",
    "    #loss=['mean_squared_error', vm_losses.gradientLoss('l2')],\n",
    "    #loss=[vm_losses.cc3D(), vm_losses.gradientLoss('l2')],\n",
    "    loss=[vm_losses.NCC().loss, vm_losses.NCC().loss, vm_losses.Grad('l2').loss, 'mean_squared_error'],\n",
    "          #vm_losses.gradientLoss('l2')],\n",
    "    #loss_weights=[1.0, ,0.01],\n",
    "    #loss_weights=[1.0, 1.],#0.01],\n",
    "    loss_weights=[1., 1., 1., 0.],#0.01],\n",
    "    optimizer=Adam(0.0001)\n",
    ")\n",
    "\n"
   ]
  },
  {
   "cell_type": "code",
   "execution_count": 6,
   "metadata": {},
   "outputs": [
    {
     "name": "stdout",
     "output_type": "stream",
     "text": [
      "input_1\n",
      "input_1\n",
      "input_2\n",
      "input_2\n",
      "concatenate_1\n",
      "concatenate_1\n",
      "conv3d_1\n",
      "conv3d_1\n",
      "leaky_re_lu_1\n",
      "leaky_re_lu_1\n",
      "conv3d_2\n",
      "conv3d_2\n",
      "leaky_re_lu_2\n",
      "leaky_re_lu_2\n",
      "conv3d_3\n",
      "conv3d_3\n",
      "leaky_re_lu_3\n",
      "leaky_re_lu_3\n",
      "conv3d_4\n",
      "conv3d_4\n",
      "leaky_re_lu_4\n",
      "leaky_re_lu_4\n",
      "conv3d_5\n",
      "conv3d_5\n",
      "leaky_re_lu_5\n",
      "leaky_re_lu_5\n",
      "up_sampling3d_1\n",
      "up_sampling3d_1\n",
      "concatenate_2\n",
      "concatenate_2\n",
      "conv3d_6\n",
      "conv3d_6\n",
      "leaky_re_lu_6\n",
      "leaky_re_lu_6\n",
      "up_sampling3d_2\n",
      "up_sampling3d_2\n",
      "concatenate_3\n",
      "concatenate_3\n",
      "conv3d_7\n",
      "conv3d_7\n",
      "leaky_re_lu_7\n",
      "leaky_re_lu_7\n",
      "up_sampling3d_3\n",
      "up_sampling3d_3\n",
      "concatenate_4\n",
      "concatenate_4\n",
      "conv3d_8\n",
      "conv3d_8\n",
      "leaky_re_lu_8\n",
      "leaky_re_lu_8\n",
      "conv3d_9\n",
      "conv3d_9\n"
     ]
    },
    {
     "ename": "ValueError",
     "evalue": "Layer weight shape (3, 3, 3, 32, 16) not compatible with provided weight shape (3, 3, 3, 32, 32)",
     "output_type": "error",
     "traceback": [
      "\u001b[0;31m---------------------------------------------------------------------------\u001b[0m",
      "\u001b[0;31mValueError\u001b[0m                                Traceback (most recent call last)",
      "\u001b[0;32m<ipython-input-6-99d77de8b757>\u001b[0m in \u001b[0;36m<module>\u001b[0;34m\u001b[0m\n\u001b[1;32m      5\u001b[0m     \u001b[0;32mif\u001b[0m \u001b[0ml\u001b[0m\u001b[0;34m.\u001b[0m\u001b[0mname\u001b[0m \u001b[0;34m==\u001b[0m \u001b[0mvoxelmorph_model\u001b[0m\u001b[0;34m.\u001b[0m\u001b[0mlayers\u001b[0m\u001b[0;34m[\u001b[0m\u001b[0mli\u001b[0m\u001b[0;34m]\u001b[0m\u001b[0;34m.\u001b[0m\u001b[0mname\u001b[0m\u001b[0;34m:\u001b[0m\u001b[0;34m\u001b[0m\u001b[0m\n\u001b[1;32m      6\u001b[0m         \u001b[0mprint\u001b[0m\u001b[0;34m(\u001b[0m\u001b[0ml\u001b[0m\u001b[0;34m.\u001b[0m\u001b[0mname\u001b[0m\u001b[0;34m)\u001b[0m\u001b[0;34m\u001b[0m\u001b[0m\n\u001b[0;32m----> 7\u001b[0;31m         \u001b[0mvm_diffeo_model\u001b[0m\u001b[0;34m.\u001b[0m\u001b[0mlayers\u001b[0m\u001b[0;34m[\u001b[0m\u001b[0mli\u001b[0m\u001b[0;34m]\u001b[0m\u001b[0;34m.\u001b[0m\u001b[0mset_weights\u001b[0m\u001b[0;34m(\u001b[0m\u001b[0mvoxelmorph_model\u001b[0m\u001b[0;34m.\u001b[0m\u001b[0mlayers\u001b[0m\u001b[0;34m[\u001b[0m\u001b[0mli\u001b[0m\u001b[0;34m]\u001b[0m\u001b[0;34m.\u001b[0m\u001b[0mget_weights\u001b[0m\u001b[0;34m(\u001b[0m\u001b[0;34m)\u001b[0m\u001b[0;34m)\u001b[0m\u001b[0;34m\u001b[0m\u001b[0m\n\u001b[0m",
      "\u001b[0;32m~/.conda/envs/cvenv36/lib/python3.6/site-packages/keras/engine/base_layer.py\u001b[0m in \u001b[0;36mset_weights\u001b[0;34m(self, weights)\u001b[0m\n\u001b[1;32m   1055\u001b[0m                                  \u001b[0mstr\u001b[0m\u001b[0;34m(\u001b[0m\u001b[0mpv\u001b[0m\u001b[0;34m.\u001b[0m\u001b[0mshape\u001b[0m\u001b[0;34m)\u001b[0m \u001b[0;34m+\u001b[0m\u001b[0;34m\u001b[0m\u001b[0m\n\u001b[1;32m   1056\u001b[0m                                  \u001b[0;34m' not compatible with '\u001b[0m\u001b[0;34m\u001b[0m\u001b[0m\n\u001b[0;32m-> 1057\u001b[0;31m                                  'provided weight shape ' + str(w.shape))\n\u001b[0m\u001b[1;32m   1058\u001b[0m             \u001b[0mweight_value_tuples\u001b[0m\u001b[0;34m.\u001b[0m\u001b[0mappend\u001b[0m\u001b[0;34m(\u001b[0m\u001b[0;34m(\u001b[0m\u001b[0mp\u001b[0m\u001b[0;34m,\u001b[0m \u001b[0mw\u001b[0m\u001b[0;34m)\u001b[0m\u001b[0;34m)\u001b[0m\u001b[0;34m\u001b[0m\u001b[0m\n\u001b[1;32m   1059\u001b[0m         \u001b[0mK\u001b[0m\u001b[0;34m.\u001b[0m\u001b[0mbatch_set_value\u001b[0m\u001b[0;34m(\u001b[0m\u001b[0mweight_value_tuples\u001b[0m\u001b[0;34m)\u001b[0m\u001b[0;34m\u001b[0m\u001b[0m\n",
      "\u001b[0;31mValueError\u001b[0m: Layer weight shape (3, 3, 3, 32, 16) not compatible with provided weight shape (3, 3, 3, 32, 32)"
     ]
    }
   ],
   "source": [
    "\n",
    "# copy weights from regular voxelmorph as initialization\n",
    "for li, l in enumerate(vm_diffeo_model.layers):\n",
    "    print(l.name)\n",
    "    if l.name == voxelmorph_model.layers[li].name:\n",
    "        print(l.name)\n",
    "        vm_diffeo_model.layers[li].set_weights(voxelmorph_model.layers[li].get_weights())"
   ]
  },
  {
   "cell_type": "code",
   "execution_count": null,
   "metadata": {},
   "outputs": [],
   "source": [
    "del voxelmorph_model"
   ]
  },
  {
   "cell_type": "code",
   "execution_count": null,
   "metadata": {},
   "outputs": [],
   "source": [
    "\n"
   ]
  },
  {
   "cell_type": "code",
   "execution_count": null,
   "metadata": {},
   "outputs": [],
   "source": []
  },
  {
   "cell_type": "code",
   "execution_count": null,
   "metadata": {},
   "outputs": [],
   "source": [
    "print(ds.files_labeled_train[0])\n",
    "# source_X = ds.X_atlas\n",
    "source_X, _ = adni_loader._load_vol_and_seg(ds.files_labeled_train[0], load_seg=False, mask_vol=ds.params['masked'])\n",
    "source_X = source_X[np.newaxis]\n",
    "IPython.display.display(PIL.Image.fromarray((source_X[0, :, :, 64, 0]*255).astype(np.uint8)))\n",
    "\n"
   ]
  },
  {
   "cell_type": "code",
   "execution_count": null,
   "metadata": {
    "scrolled": true
   },
   "outputs": [],
   "source": [
    "print(start_iter)\n",
    "n_train_iters = 100000\n",
    "vol_gen = ds.gen_vols_batch(['labeled_train', 'unlabeled_train'], batch_size=1, randomize=True)\n",
    "print(ds.files_labeled_train + ds.files_unlabeled_train)\n",
    "#vol_gen = data_utils.gen_batch(X_unlabeled, X_unlabeled, batch_size=1, randomize=True)\n",
    "target_X, _ = next(vol_gen)\n",
    "zeros_flow = np.zeros(target_X.shape[:-1] + (3,))\n",
    "\n",
    "for bi in range(n_train_iters + 1):\n",
    "    \n",
    "    target_X, _ = next(vol_gen)\n",
    "    vm_losses = vm_diffeo_model.train_on_batch([source_X, target_X], [target_X, source_X, zeros_flow, zeros_flow])\n",
    "    print('Iter {}, loss {}'.format(bi, vm_losses))\n",
    "    \n",
    "    if bi > 0 and bi % 2000 == 0:\n",
    "        vm_diffeo_model.save('./experiments/voxelmorph/vm2_cc_AtoUMS_100k_CStoUMS_xy_bidir_fullres_iter{}.h5'.format(start_iter + bi))"
   ]
  },
  {
   "cell_type": "code",
   "execution_count": null,
   "metadata": {},
   "outputs": [],
   "source": [
    "# # save a voxelmorph wrapper\n",
    "# import sys\n",
    "# sys.path.append('../voxelmorph-sandbox')\n",
    "# import voxelmorph.networks as vm_networks\n",
    "# import tensorflow as tf\n",
    "# from voxelmorph import dense_3D_spatial_transformer\n",
    "# from keras.models import load_model\n",
    " \n",
    "# sys.path.append('../neuron')\n",
    "# import neuron.layers as nrn_layers\n",
    "# import neuron.utils as nrn_utils\n",
    "# sys.path.append('../voxelmorph-sandbox')\n",
    "# import voxelmorph.networks as vm_networks\n",
    "# from voxelmorph.dense_3D_spatial_transformer import Dense3DSpatialTransformer\n",
    "\n",
    "                                \n",
    "# vm_diffeo_model = load_model(\n",
    "#     #'/afs/csail.mit.edu/u/x/xamyzhao/voxelmorph/models/vm2_cc.h5',\n",
    "#     './experiments/voxelmorph/vm2_cc_AtoUMS_newdataset_100k_bidir_iter10000.h5',#.format(start_iter),\n",
    "#     custom_objects={'Dense3DSpatialTransformer': dense_3D_spatial_transformer.Dense3DSpatialTransformer, \n",
    "#                     'interp_upsampling': vm_networks.interp_upsampling,\n",
    "#                     'meshgrid': vm_networks.meshgrid,\n",
    "#                     'tf': tf,\n",
    "                    \n",
    "#                     'VecInt': nrn_layers.VecInt,\n",
    "#                     'SpatialTransformer': nrn_layers.SpatialTransformer,\n",
    "#                     'nrn_utils': nrn_utils,\n",
    "#                     'nrn_layers': nrn_layers,\n",
    "#                    },\n",
    "#     compile=False,\n",
    "# )\n",
    "\n",
    "# from keras.layers import Input, Lambda\n",
    "# from keras.models import Model\n",
    "\n",
    "# vol_shape = (160, 192, 224, 1)\n",
    "# input_src = Input(vol_shape)\n",
    "# input_tgt = Input(vol_shape)\n",
    "\n",
    "# warped, backwarped, _ = vm_diffeo_model([input_src, input_tgt])\n",
    "# flow = vm_diffeo_model.get_layer('diffflow').output\n",
    "\n",
    "# wrapper_model = Model(inputs=[input_src, input_tgt], outputs=[flow, warped], name='vmmiccai_bidir_cc_wrapper')\n",
    "# wrapper_model.summary()\n",
    "# wrapper_model.save('./experiments/voxelmorph/vm2_cc_AtoUMS_newdataset_100k_bidir_iter10000_wrapper.h5')"
   ]
  }
 ],
 "metadata": {
  "kernelspec": {
   "display_name": "Python 3",
   "language": "python",
   "name": "python3"
  },
  "language_info": {
   "codemirror_mode": {
    "name": "ipython",
    "version": 3
   },
   "file_extension": ".py",
   "mimetype": "text/x-python",
   "name": "python",
   "nbconvert_exporter": "python",
   "pygments_lexer": "ipython3",
   "version": "3.6.6"
  }
 },
 "nbformat": 4,
 "nbformat_minor": 2
}
