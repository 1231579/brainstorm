{
 "cells": [
  {
   "cell_type": "code",
   "execution_count": 1,
   "metadata": {},
   "outputs": [
    {
     "name": "stderr",
     "output_type": "stream",
     "text": [
      "Using TensorFlow backend.\n",
      "../cnn_utils/vis_utils.py:14: UserWarning: matplotlib.pyplot as already been imported, this call will have no effect.\n",
      "  mpl.use('Agg')\n"
     ]
    }
   ],
   "source": [
    "%load_ext autoreload\n",
    "%autoreload 2\n",
    "import json\n",
    "import os\n",
    "import sys\n",
    "\n",
    "import keras.backend as K\n",
    "from keras.models import load_model\n",
    "from keras.optimizers import Adam\n",
    "import numpy as np\n",
    "import tensorflow as tf\n",
    "\n",
    "from dataset_utils import adni_loader\n",
    "#from networks import transform_network_utils\n",
    "\n",
    "sys.path.append('../neuron')\n",
    "sys.path.append('../voxelmorph')\n",
    "import src.networks as vm_networks\n",
    "\n",
    "sys.path.append('../voxelmorph-sandbox/')\n",
    "from voxelmorph.dense_3D_spatial_transformer import Dense3DSpatialTransformer\n",
    "\n",
    "\n",
    "\n",
    "gpu_ids = [2]\n",
    "# set gpu id and tf settings\n",
    "os.environ['CUDA_VISIBLE_DEVICES']=','.join([str(g) for g in gpu_ids])\n",
    "config = tf.ConfigProto()\n",
    "config.gpu_options.allow_growth = True\n",
    "K.tensorflow_backend.set_session(tf.Session(config=config))\n",
    "\n",
    "\n",
    "\n",
    "start_iter = 0\n",
    "voxelmorph_model_old = load_model(\n",
    "    #'/afs/csail.mit.edu/u/x/xamyzhao/voxelmorph/models/vm2_cc.h5',\n",
    "    './experiments/voxelmorph/vm2_cc_AtoUMS_newdataset_iter100000.h5',#.format(start_iter),\n",
    "    custom_objects={'Dense3DSpatialTransformer': Dense3DSpatialTransformer},\n",
    "    compile=False,\n",
    ")\n",
    "\n",
    "# # reset weights to random\n",
    "# from keras.initializers import glorot_uniform\n",
    "# session = K.get_session()\n",
    "# initial_weights = voxelmorph_model.get_weights()\n",
    "# new_weights = [glorot_uniform()(w.shape).eval(session=session) for w in initial_weights]\n",
    "# voxelmorph_model.set_weights(new_weights)\n"
   ]
  },
  {
   "cell_type": "markdown",
   "metadata": {},
   "source": [
    "Load training dataset"
   ]
  },
  {
   "cell_type": "code",
   "execution_count": 2,
   "metadata": {},
   "outputs": [
    {
     "name": "stderr",
     "output_type": "stream",
     "text": [
      "../cnn_utils/vis_utils.py:14: UserWarning: matplotlib.pyplot as already been imported, this call will have no effect.\n",
      "  mpl.use('Agg')\n"
     ]
    },
    {
     "name": "stdout",
     "output_type": "stream",
     "text": [
      "Loading adni dataset adni-unnorm-masked_100ul_atlas-l\n",
      "Params: {'dataset_name': 'adni', 'source_name': 'atl', 'target_name': 'subjs', 'masked': True, 'n_shot': 1, 'use_atlas_as_source': True, 'img_shape': (160, 192, 224, 1), 'pred_img_shape': (160, 192, 1), 'aug_img_shape': (160, 192, 224, 1), 'n_unlabeled': 100, 'n_validation': 50, 'load_vols': True, 'aug_in_gen': True, 'n_flow_aug': None, 'n_vte_aug': None, 'unnormalized': True, 'use_labels': [0, 16, 10, 49, 8, 47, 4, 43, 7, 46, 12, 51, 2, 41, 28, 60, 11, 50, 13, 52, 17, 53, 14, 15, 18, 54, 24, 3, 42, 31, 63], 'final_test': False, 'n_dims': 3, 'orig_img_shape': (160, 192, 224, 1), 'scale': 1.0, 'split_id': None}\n",
      "Got list of 7329 files from /data/ddmg/voxelmorph/data/t1_mix/proc/resize256-crop_x32/train/origs/*.npz:\n",
      "ADNI_ADNI-3T-FS-5.3-Long_293689.long.016_S_4591_base_mri_talairach_orig.npz\n",
      "ADNI_ADNI-3T-FS-5.3-Long_78841.long.016_S_1326_base_mri_talairach_orig.npz\n",
      "ADNI_ADNI-1.5T-FS-5.3-Long_436815.long.094_S_1330_base_mri_talairach_orig.npz\n",
      "ADNI_ADNI-3T-FS-5.3-Long_296323.long.068_S_2168_base_mri_talairach_orig.npz\n",
      "ADNI_ADNI-3T-FS-5.3-Long_388923.long.135_S_5273_base_mri_talairach_orig.npz\n",
      "ADNI_ADNI-3T-FS-5.3-Long_272700.long.009_S_4388_base_mri_talairach_orig.npz\n",
      "ADNI_ADNI-1.5T-FS-5.3-Long_394785.long.027_S_0408_base_mri_talairach_orig.npz\n",
      "PPMI_3519_mri_talairach_orig.npz\n",
      "ADNI_ADNI-3T-FS-5.3-Long_119158.long.053_S_0507_base_mri_talairach_orig.npz\n",
      "ADNI_ADNI-1.5T-FS-5.3-Long_63306.long.007_S_0249_base_mri_talairach_orig.npz\n",
      "ABIDE_50685_mri_talairach_orig.npz\n",
      "ADNI_ADNI-1.5T-FS-5.3-Long_121666.long.041_S_1423_base_mri_talairach_orig.npz\n",
      "GSP_120719_TT88SP_FS_mri_talairach_orig.npz\n",
      "COBRE_0040043_mri_talairach_orig.npz\n",
      "ADNI_ADNI-3T-FS-5.3-Long_416015.long.021_S_2124_base_mri_talairach_orig.npz\n",
      "...\n",
      "Got 101 training and 50 validation files!\n",
      "Labeled train vols:\n",
      "X_labeled_train: (1, 160, 192, 224, 1)\n",
      "Y_labeled_train: (1, 160, 192, 224)\n",
      "ids_labeled_train: ['atlas']\n",
      "Loaded 0 of 50 files\n",
      "Loaded 0 of 101 files\n",
      "Loaded 100 of 101 files\n",
      "Filtering labels to [0, 16, 10, 49, 8, 47, 4, 43, 7, 46, 12, 51, 2, 41, 28, 60, 11, 50, 13, 52, 17, 53, 14, 15, 18, 54, 24, 3, 42, 31, 63]\n"
     ]
    }
   ],
   "source": [
    "dataset_key = 'adni-3d-100-unnorm-masked'\n",
    "import vte_runner\n",
    "data_params = vte_runner.named_vte_data_params[dataset_key]\n",
    "    \n",
    "ds = adni_loader.ADNIDataset(data_params)\n",
    "\n",
    "vol_shape = tuple(data_params['img_shape'])\n",
    "\n",
    "# just load some examples so we can get the image size, but actually use a generator later...\n",
    "(X_unlabeled, _, ids_unlabeled),\\\n",
    "(X_labeled_train, Y_labeled_train, ids_labeled_train), \\\n",
    "(X_labeled_valid, Y_labeled_valid, ids_labeled_valid), \\\n",
    "label_mapping \\\n",
    "= ds.load_dataset(debug=False)"
   ]
  },
  {
   "cell_type": "code",
   "execution_count": 3,
   "metadata": {},
   "outputs": [
    {
     "name": "stdout",
     "output_type": "stream",
     "text": [
      "(101, 160, 192, 224, 1)\n",
      "(1, 160, 192, 224, 1)\n",
      "(50, 160, 192, 224, 1)\n",
      "['atlas']\n",
      "True\n"
     ]
    },
    {
     "data": {
      "image/png": "[encoded data removed]",
      "text/plain": [
       "<PIL.Image.Image image mode=L size=192x160 at 0x7F1B1F521FD0>"
      ]
     },
     "metadata": {},
     "output_type": "display_data"
    },
    {
     "data": {
      "image/png": "[encoded data removed]",
      "text/plain": [
       "<PIL.Image.Image image mode=L size=192x160 at 0x7F1B08687B70>"
      ]
     },
     "metadata": {},
     "output_type": "display_data"
    }
   ],
   "source": [
    "print(X_unlabeled.shape)\n",
    "print(X_labeled_train.shape)\n",
    "print(X_labeled_valid.shape)\n",
    "print(ds.files_labeled_train)\n",
    "print(ds.params['load_vols'])\n",
    "import IPython\n",
    "import PIL\n",
    "IPython.display.display(PIL.Image.fromarray((X_labeled_train[0, :, :, 64, 0]*255).astype(np.uint8)))\n",
    "IPython.display.display(PIL.Image.fromarray((X_unlabeled[0, :, :, 64, 0]*255).astype(np.uint8)))\n"
   ]
  },
  {
   "cell_type": "code",
   "execution_count": 5,
   "metadata": {
    "scrolled": false
   },
   "outputs": [
    {
     "name": "stdout",
     "output_type": "stream",
     "text": [
      "[(None, 160, 192, 224, 1), (None, 160, 192, 224, 3)]\n",
      "__________________________________________________________________________________________________\n",
      "Layer (type)                    Output Shape         Param #     Connected to                     \n",
      "==================================================================================================\n",
      "input_1 (InputLayer)            (None, 160, 192, 224 0                                            \n",
      "__________________________________________________________________________________________________\n",
      "input_2 (InputLayer)            (None, 160, 192, 224 0                                            \n",
      "__________________________________________________________________________________________________\n",
      "concatenate_1 (Concatenate)     (None, 160, 192, 224 0           input_1[0][0]                    \n",
      "                                                                 input_2[0][0]                    \n",
      "__________________________________________________________________________________________________\n",
      "conv3d_1 (Conv3D)               (None, 80, 96, 112,  880         concatenate_1[0][0]              \n",
      "__________________________________________________________________________________________________\n",
      "leaky_re_lu_1 (LeakyReLU)       (None, 80, 96, 112,  0           conv3d_1[0][0]                   \n",
      "__________________________________________________________________________________________________\n",
      "conv3d_2 (Conv3D)               (None, 40, 48, 56, 3 13856       leaky_re_lu_1[0][0]              \n",
      "__________________________________________________________________________________________________\n",
      "leaky_re_lu_2 (LeakyReLU)       (None, 40, 48, 56, 3 0           conv3d_2[0][0]                   \n",
      "__________________________________________________________________________________________________\n",
      "conv3d_3 (Conv3D)               (None, 20, 24, 28, 3 27680       leaky_re_lu_2[0][0]              \n",
      "__________________________________________________________________________________________________\n",
      "leaky_re_lu_3 (LeakyReLU)       (None, 20, 24, 28, 3 0           conv3d_3[0][0]                   \n",
      "__________________________________________________________________________________________________\n",
      "conv3d_4 (Conv3D)               (None, 10, 12, 14, 3 27680       leaky_re_lu_3[0][0]              \n",
      "__________________________________________________________________________________________________\n",
      "leaky_re_lu_4 (LeakyReLU)       (None, 10, 12, 14, 3 0           conv3d_4[0][0]                   \n",
      "__________________________________________________________________________________________________\n",
      "conv3d_5 (Conv3D)               (None, 10, 12, 14, 3 27680       leaky_re_lu_4[0][0]              \n",
      "__________________________________________________________________________________________________\n",
      "leaky_re_lu_5 (LeakyReLU)       (None, 10, 12, 14, 3 0           conv3d_5[0][0]                   \n",
      "__________________________________________________________________________________________________\n",
      "up_sampling3d_1 (UpSampling3D)  (None, 20, 24, 28, 3 0           leaky_re_lu_5[0][0]              \n",
      "__________________________________________________________________________________________________\n",
      "concatenate_2 (Concatenate)     (None, 20, 24, 28, 6 0           up_sampling3d_1[0][0]            \n",
      "                                                                 leaky_re_lu_3[0][0]              \n",
      "__________________________________________________________________________________________________\n",
      "conv3d_6 (Conv3D)               (None, 20, 24, 28, 3 55328       concatenate_2[0][0]              \n",
      "__________________________________________________________________________________________________\n",
      "leaky_re_lu_6 (LeakyReLU)       (None, 20, 24, 28, 3 0           conv3d_6[0][0]                   \n",
      "__________________________________________________________________________________________________\n",
      "up_sampling3d_2 (UpSampling3D)  (None, 40, 48, 56, 3 0           leaky_re_lu_6[0][0]              \n",
      "__________________________________________________________________________________________________\n",
      "concatenate_3 (Concatenate)     (None, 40, 48, 56, 6 0           up_sampling3d_2[0][0]            \n",
      "                                                                 leaky_re_lu_2[0][0]              \n",
      "__________________________________________________________________________________________________\n",
      "conv3d_7 (Conv3D)               (None, 40, 48, 56, 3 55328       concatenate_3[0][0]              \n",
      "__________________________________________________________________________________________________\n",
      "leaky_re_lu_7 (LeakyReLU)       (None, 40, 48, 56, 3 0           conv3d_7[0][0]                   \n",
      "__________________________________________________________________________________________________\n",
      "up_sampling3d_3 (UpSampling3D)  (None, 80, 96, 112,  0           leaky_re_lu_7[0][0]              \n",
      "__________________________________________________________________________________________________\n",
      "concatenate_4 (Concatenate)     (None, 80, 96, 112,  0           up_sampling3d_3[0][0]            \n",
      "                                                                 leaky_re_lu_1[0][0]              \n",
      "__________________________________________________________________________________________________\n",
      "conv3d_8 (Conv3D)               (None, 80, 96, 112,  41504       concatenate_4[0][0]              \n",
      "__________________________________________________________________________________________________\n",
      "leaky_re_lu_8 (LeakyReLU)       (None, 80, 96, 112,  0           conv3d_8[0][0]                   \n",
      "__________________________________________________________________________________________________\n",
      "conv3d_9 (Conv3D)               (None, 80, 96, 112,  27680       leaky_re_lu_8[0][0]              \n",
      "__________________________________________________________________________________________________\n",
      "leaky_re_lu_9 (LeakyReLU)       (None, 80, 96, 112,  0           conv3d_9[0][0]                   \n",
      "__________________________________________________________________________________________________\n",
      "up_sampling3d_4 (UpSampling3D)  (None, 160, 192, 224 0           leaky_re_lu_9[0][0]              \n",
      "__________________________________________________________________________________________________\n",
      "concatenate_5 (Concatenate)     (None, 160, 192, 224 0           up_sampling3d_4[0][0]            \n",
      "                                                                 concatenate_1[0][0]              \n",
      "__________________________________________________________________________________________________\n",
      "conv3d_10 (Conv3D)              (None, 160, 192, 224 14704       concatenate_5[0][0]              \n",
      "__________________________________________________________________________________________________\n",
      "leaky_re_lu_10 (LeakyReLU)      (None, 160, 192, 224 0           conv3d_10[0][0]                  \n",
      "__________________________________________________________________________________________________\n",
      "conv3d_11 (Conv3D)              (None, 160, 192, 224 6928        leaky_re_lu_10[0][0]             \n",
      "__________________________________________________________________________________________________\n",
      "leaky_re_lu_11 (LeakyReLU)      (None, 160, 192, 224 0           conv3d_11[0][0]                  \n",
      "__________________________________________________________________________________________________\n",
      "flow (Conv3D)                   (None, 160, 192, 224 1299        leaky_re_lu_11[0][0]             \n",
      "__________________________________________________________________________________________________\n",
      "spatial_transformer_1 (SpatialT [(None, 160, 192, 22 0           input_1[0][0]                    \n",
      "                                                                 flow[0][0]                       \n",
      "==================================================================================================\n",
      "Total params: 300,547\n",
      "Trainable params: 300,547\n",
      "Non-trainable params: 0\n",
      "__________________________________________________________________________________________________\n"
     ]
    },
    {
     "data": {
      "image/png": "[encoded data removed]",
      "text/plain": [
       "<PIL.Image.Image image mode=L size=192x160 at 0x7F1A8879AB00>"
      ]
     },
     "metadata": {},
     "output_type": "display_data"
    }
   ],
   "source": [
    "sys.path.append('../voxelmorph')\n",
    "import src.networks as vm_networks\n",
    "start_iter = 0\n",
    "nf_enc = [16, 32, 32, 32]\n",
    "nf_dec = [32, 32, 32, 32, 32, 16, 16]\n",
    "# vm2 model\n",
    "voxelmorph_model = vm_networks.cvpr2018_net(\n",
    "    vol_size=(160, 192, 224),\n",
    "    enc_nf=nf_enc, \n",
    "    dec_nf=nf_dec,\n",
    ")\n",
    "\n",
    "voxelmorph_model.summary()\n",
    "import data_utils\n",
    "sys.path.append('../voxelmorph')\n",
    "import src.losses as vm_losses\n",
    "# just train voxelmorph\n",
    "voxelmorph_model.compile(\n",
    "    #loss=['mean_squared_error', vm_losses.gradientLoss('l2')],\n",
    "    loss=[vm_losses.NCC().loss, vm_losses.Grad('l2').loss],\n",
    "    #loss_weights=[1.0, ,0.01],\n",
    "    loss_weights=[1.0, 1.],#0.01],\n",
    "    optimizer=Adam(0.0001)\n",
    ")\n",
    "\n",
    "#source_X = ds.X_atlas\n",
    "source_X, _ = adni_loader._load_vol_and_seg(ds.files_labeled_train[0], load_seg=False, mask_vol=ds.params['masked'])\n",
    "source_X = source_X[np.newaxis]\n",
    "IPython.display.display(PIL.Image.fromarray((source_X[0, :, :, 64, 0]*255).astype(np.uint8)))\n",
    "\n"
   ]
  },
  {
   "cell_type": "code",
   "execution_count": 6,
   "metadata": {},
   "outputs": [
    {
     "name": "stdout",
     "output_type": "stream",
     "text": [
      "input_1\n",
      "input_1\n",
      "input_2\n",
      "input_2\n",
      "concatenate_1\n",
      "concatenate_1\n",
      "conv3d_1\n",
      "conv3d_1\n",
      "leaky_re_lu_1\n",
      "leaky_re_lu_1\n",
      "conv3d_2\n",
      "conv3d_2\n",
      "leaky_re_lu_2\n",
      "leaky_re_lu_2\n",
      "conv3d_3\n",
      "conv3d_3\n",
      "leaky_re_lu_3\n",
      "leaky_re_lu_3\n",
      "conv3d_4\n",
      "conv3d_4\n",
      "leaky_re_lu_4\n",
      "leaky_re_lu_4\n",
      "conv3d_5\n",
      "conv3d_5\n",
      "leaky_re_lu_5\n",
      "leaky_re_lu_5\n",
      "up_sampling3d_1\n",
      "up_sampling3d_1\n",
      "concatenate_2\n",
      "concatenate_2\n",
      "conv3d_6\n",
      "conv3d_6\n",
      "leaky_re_lu_6\n",
      "leaky_re_lu_6\n",
      "up_sampling3d_2\n",
      "up_sampling3d_2\n",
      "concatenate_3\n",
      "concatenate_3\n",
      "conv3d_7\n",
      "conv3d_7\n",
      "leaky_re_lu_7\n",
      "leaky_re_lu_7\n",
      "up_sampling3d_3\n",
      "up_sampling3d_3\n",
      "concatenate_4\n",
      "concatenate_4\n",
      "conv3d_8\n",
      "conv3d_8\n",
      "leaky_re_lu_8\n",
      "leaky_re_lu_8\n",
      "conv3d_9\n",
      "conv3d_9\n",
      "leaky_re_lu_9\n",
      "leaky_re_lu_9\n",
      "up_sampling3d_4\n",
      "up_sampling3d_4\n",
      "concatenate_5\n",
      "concatenate_5\n",
      "conv3d_10\n",
      "conv3d_10\n",
      "leaky_re_lu_10\n",
      "leaky_re_lu_10\n",
      "conv3d_11\n",
      "conv3d_11\n",
      "leaky_re_lu_11\n",
      "leaky_re_lu_11\n",
      "flow\n",
      "flow\n",
      "spatial_transformer_1\n"
     ]
    }
   ],
   "source": [
    "\n",
    "# copy weights from regular voxelmorph as initialization\n",
    "for li, l in enumerate(voxelmorph_model.layers):\n",
    "    print(l.name)\n",
    "    if l.name == voxelmorph_model_old.layers[li].name:\n",
    "        print(l.name)\n",
    "        voxelmorph_model.layers[li].set_weights(voxelmorph_model_old.layers[li].get_weights())"
   ]
  },
  {
   "cell_type": "code",
   "execution_count": null,
   "metadata": {},
   "outputs": [
    {
     "name": "stdout",
     "output_type": "stream",
     "text": [
      "['atlas', '/data/ddmg/voxelmorph/data/t1_mix/proc/resize256-crop_x32/train/origs/ADNI_ADNI-3T-FS-5.3-Long_263697.long.153_S_4077_base_mri_talairach_orig.npz', '/data/ddmg/voxelmorph/data/t1_mix/proc/resize256-crop_x32/train/origs/ADNI_ADNI-3T-FS-5.3-Long_223532.long.153_S_2109_base_mri_talairach_orig.npz', '/data/ddmg/voxelmorph/data/t1_mix/proc/resize256-crop_x32/train/origs/ADNI_ADNI-1.5T-FS-5.3-Long_76615.long.021_S_0984_base_mri_talairach_orig.npz', '/data/ddmg/voxelmorph/data/t1_mix/proc/resize256-crop_x32/train/origs/ADNI_ADNI-3T-FS-5.3-Long_451346.long.009_S_0751_base_mri_talairach_orig.npz', '/data/ddmg/voxelmorph/data/t1_mix/proc/resize256-crop_x32/train/origs/GSP_100329_NW33DK_FS_mri_talairach_orig.npz', '/data/ddmg/voxelmorph/data/t1_mix/proc/resize256-crop_x32/train/origs/ADNI_ADNI-3T-FS-5.3-Long_282668.long.002_S_4270_base_mri_talairach_orig.npz', '/data/ddmg/voxelmorph/data/t1_mix/proc/resize256-crop_x32/train/origs/GSP_110314_JD99RH_FS_mri_talairach_orig.npz', '/data/ddmg/voxelmorph/data/t1_mix/proc/resize256-crop_x32/train/origs/ABIDE_50558_mri_talairach_orig.npz', '/data/ddmg/voxelmorph/data/t1_mix/proc/resize256-crop_x32/train/origs/ADNI_ADNI-3T-FS-5.3-Long_424046.long.073_S_2225_base_mri_talairach_orig.npz', '/data/ddmg/voxelmorph/data/t1_mix/proc/resize256-crop_x32/train/origs/ADNI_ADNI-1.5T-FS-5.3-Long_123092.long.036_S_0672_base_mri_talairach_orig.npz', '/data/ddmg/voxelmorph/data/t1_mix/proc/resize256-crop_x32/train/origs/ADNI_ADNI-1.5T-FS-5.3-Long_65343.long.027_S_0850_base_mri_talairach_orig.npz', '/data/ddmg/voxelmorph/data/t1_mix/proc/resize256-crop_x32/train/origs/ADNI_ADNI-3T-FS-5.3-Long_254813.long.116_S_4209_base_mri_talairach_orig.npz', '/data/ddmg/voxelmorph/data/t1_mix/proc/resize256-crop_x32/train/origs/ADNI_ADNI-1.5T-FS-5.3-Long_45933.long.137_S_0972_base_mri_talairach_orig.npz', '/data/ddmg/voxelmorph/data/t1_mix/proc/resize256-crop_x32/train/origs/ADNI_ADNI-3T-FS-5.3-Long_394756.long.011_S_4235_base_mri_talairach_orig.npz', '/data/ddmg/voxelmorph/data/t1_mix/proc/resize256-crop_x32/train/origs/ADNI_ADNI-1.5T-FS-5.3-Long_118902.long.023_S_0926_base_mri_talairach_orig.npz', '/data/ddmg/voxelmorph/data/t1_mix/proc/resize256-crop_x32/train/origs/ADNI_ADNI-1.5T-FS-5.3-Long_119324.long.123_S_0113_base_mri_talairach_orig.npz', '/data/ddmg/voxelmorph/data/t1_mix/proc/resize256-crop_x32/train/origs/ADNI_ADNI-1.5T-FS-5.3-Long_370676.long.033_S_0741_base_mri_talairach_orig.npz', '/data/ddmg/voxelmorph/data/t1_mix/proc/resize256-crop_x32/train/origs/ADNI_ADNI-3T-FS-5.3-Long_349295.long.021_S_2142_base_mri_talairach_orig.npz', '/data/ddmg/voxelmorph/data/t1_mix/proc/resize256-crop_x32/train/origs/PPMI_3787_mri_talairach_orig.npz', '/data/ddmg/voxelmorph/data/t1_mix/proc/resize256-crop_x32/train/origs/ADNI_ADNI-1.5T-FS-5.3-Long_121812.long.029_S_1218_base_mri_talairach_orig.npz', '/data/ddmg/voxelmorph/data/t1_mix/proc/resize256-crop_x32/train/origs/MCIC_Site_A_A00036143_mri_talairach_orig.npz', '/data/ddmg/voxelmorph/data/t1_mix/proc/resize256-crop_x32/train/origs/PPMI_3407_mri_talairach_orig.npz', '/data/ddmg/voxelmorph/data/t1_mix/proc/resize256-crop_x32/train/origs/ADNI_ADNI-1.5T-FS-5.3-Long_119395.long.128_S_0310_base_mri_talairach_orig.npz', '/data/ddmg/voxelmorph/data/t1_mix/proc/resize256-crop_x32/train/origs/ABIDE_51305_mri_talairach_orig.npz', '/data/ddmg/voxelmorph/data/t1_mix/proc/resize256-crop_x32/train/origs/ADNI_ADNI-3T-FS-5.3-Long_313580.long.006_S_4546_base_mri_talairach_orig.npz', '/data/ddmg/voxelmorph/data/t1_mix/proc/resize256-crop_x32/train/origs/ADNI_ADNI-1.5T-FS-5.3-Long_119656.long.133_S_1170_base_mri_talairach_orig.npz', '/data/ddmg/voxelmorph/data/t1_mix/proc/resize256-crop_x32/train/origs/ADNI_ADNI-1.5T-FS-5.3-Long_62599.long.005_S_0324_base_mri_talairach_orig.npz', '/data/ddmg/voxelmorph/data/t1_mix/proc/resize256-crop_x32/train/origs/ADNI_ADNI-3T-FS-5.3-Long_59923.long.007_S_1304_base_mri_talairach_orig.npz', '/data/ddmg/voxelmorph/data/t1_mix/proc/resize256-crop_x32/train/origs/ABIDE_50351_mri_talairach_orig.npz', '/data/ddmg/voxelmorph/data/t1_mix/proc/resize256-crop_x32/train/origs/PPMI_3809_mri_talairach_orig.npz', '/data/ddmg/voxelmorph/data/t1_mix/proc/resize256-crop_x32/train/origs/GSP_120628_DZ38NB_FS_mri_talairach_orig.npz', '/data/ddmg/voxelmorph/data/t1_mix/proc/resize256-crop_x32/train/origs/OASIS_OAS1_0061_MR2_mri_talairach_orig.npz', '/data/ddmg/voxelmorph/data/t1_mix/proc/resize256-crop_x32/train/origs/ADNI_ADNI-1.5T-FS-5.3-Long_121072.long.002_S_1070_base_mri_talairach_orig.npz', '/data/ddmg/voxelmorph/data/t1_mix/proc/resize256-crop_x32/train/origs/GSP_100627_BA34XH_FS_mri_talairach_orig.npz', '/data/ddmg/voxelmorph/data/t1_mix/proc/resize256-crop_x32/train/origs/ADNI_ADNI-1.5T-FS-5.3-Long_64609.long.016_S_0702_base_mri_talairach_orig.npz', '/data/ddmg/voxelmorph/data/t1_mix/proc/resize256-crop_x32/train/origs/PPMI_3650_mri_talairach_orig.npz', '/data/ddmg/voxelmorph/data/t1_mix/proc/resize256-crop_x32/train/origs/ADHD200_NYU_10120_mri_talairach_orig.npz', '/data/ddmg/voxelmorph/data/t1_mix/proc/resize256-crop_x32/train/origs/GSP_100920_GJ38UU_FS_mri_talairach_orig.npz', '/data/ddmg/voxelmorph/data/t1_mix/proc/resize256-crop_x32/train/origs/ADNI_ADNI-3T-FS-5.3-Long_342548.long.099_S_2042_base_mri_talairach_orig.npz', '/data/ddmg/voxelmorph/data/t1_mix/proc/resize256-crop_x32/train/origs/ADNI_ADNI-3T-FS-5.3-Long_416009.long.019_S_5012_base_mri_talairach_orig.npz', '/data/ddmg/voxelmorph/data/t1_mix/proc/resize256-crop_x32/train/origs/ADNI_ADNI-1.5T-FS-5.3-Long_96119.long.033_S_0723_base_mri_talairach_orig.npz', '/data/ddmg/voxelmorph/data/t1_mix/proc/resize256-crop_x32/train/origs/GSP_100916_QR67XU_FS_mri_talairach_orig.npz', '/data/ddmg/voxelmorph/data/t1_mix/proc/resize256-crop_x32/train/origs/ADNI_ADNI-1.5T-FS-5.3-Long_59697.long.116_S_0649_base_mri_talairach_orig.npz', '/data/ddmg/voxelmorph/data/t1_mix/proc/resize256-crop_x32/train/origs/ADNI_ADNI-3T-FS-5.3-Long_357718.long.130_S_4641_base_mri_talairach_orig.npz', '/data/ddmg/voxelmorph/data/t1_mix/proc/resize256-crop_x32/train/origs/GSP_120621_KM56MK_FS_mri_talairach_orig.npz', '/data/ddmg/voxelmorph/data/t1_mix/proc/resize256-crop_x32/train/origs/ADHD200_OHSU_2559559_mri_talairach_orig.npz', '/data/ddmg/voxelmorph/data/t1_mix/proc/resize256-crop_x32/train/origs/ADNI_ADNI-3T-FS-5.3-Long_277027.long.153_S_2148_base_mri_talairach_orig.npz', '/data/ddmg/voxelmorph/data/t1_mix/proc/resize256-crop_x32/train/origs/ADHD200_OHSU_3466651_mri_talairach_orig.npz', '/data/ddmg/voxelmorph/data/t1_mix/proc/resize256-crop_x32/train/origs/ADHD200_Peking_2123983_mri_talairach_orig.npz', '/data/ddmg/voxelmorph/data/t1_mix/proc/resize256-crop_x32/train/origs/GSP_100121_GF37CB_FS_mri_talairach_orig.npz', '/data/ddmg/voxelmorph/data/t1_mix/proc/resize256-crop_x32/train/origs/ADNI_ADNI-3T-FS-5.3-Long_377050.long.036_S_4736_base_mri_talairach_orig.npz', '/data/ddmg/voxelmorph/data/t1_mix/proc/resize256-crop_x32/train/origs/ADNI_ADNI-1.5T-FS-5.3-Long_376948.long.131_S_0384_base_mri_talairach_orig.npz', '/data/ddmg/voxelmorph/data/t1_mix/proc/resize256-crop_x32/train/origs/GSP_091222_EV77WH_FS_mri_talairach_orig.npz', '/data/ddmg/voxelmorph/data/t1_mix/proc/resize256-crop_x32/train/origs/OASIS_OAS1_0327_MR1_mri_talairach_orig.npz', '/data/ddmg/voxelmorph/data/t1_mix/proc/resize256-crop_x32/train/origs/GSP_100218_PX88NU_FS_mri_talairach_orig.npz', '/data/ddmg/voxelmorph/data/t1_mix/proc/resize256-crop_x32/train/origs/ADNI_ADNI-1.5T-FS-5.3-Long_102414.long.128_S_0200_base_mri_talairach_orig.npz', '/data/ddmg/voxelmorph/data/t1_mix/proc/resize256-crop_x32/train/origs/ADNI_ADNI-3T-FS-5.3-Long_349822.long.022_S_5004_base_mri_talairach_orig.npz', '/data/ddmg/voxelmorph/data/t1_mix/proc/resize256-crop_x32/train/origs/ADNI_ADNI-3T-FS-5.3-Long_432130.long.037_S_4706_base_mri_talairach_orig.npz', '/data/ddmg/voxelmorph/data/t1_mix/proc/resize256-crop_x32/train/origs/OASIS_OAS1_0331_MR1_mri_talairach_orig.npz', '/data/ddmg/voxelmorph/data/t1_mix/proc/resize256-crop_x32/train/origs/ADNI_ADNI-1.5T-FS-5.3-Long_79126.long.002_S_1261_base_mri_talairach_orig.npz', '/data/ddmg/voxelmorph/data/t1_mix/proc/resize256-crop_x32/train/origs/ADHD200_Peking_3994098_mri_talairach_orig.npz', '/data/ddmg/voxelmorph/data/t1_mix/proc/resize256-crop_x32/train/origs/ADNI_ADNI-1.5T-FS-5.3-Long_130240.long.068_S_0401_base_mri_talairach_orig.npz', '/data/ddmg/voxelmorph/data/t1_mix/proc/resize256-crop_x32/train/origs/ADHD200_Peking_3004580_mri_talairach_orig.npz', '/data/ddmg/voxelmorph/data/t1_mix/proc/resize256-crop_x32/train/origs/ADNI_ADNI-3T-FS-5.3-Long_142044.long.037_S_0588_base_mri_talairach_orig.npz', '/data/ddmg/voxelmorph/data/t1_mix/proc/resize256-crop_x32/train/origs/PPMI_3816_mri_talairach_orig.npz', '/data/ddmg/voxelmorph/data/t1_mix/proc/resize256-crop_x32/train/origs/GSP_090914_DJ48AU_FS_mri_talairach_orig.npz', '/data/ddmg/voxelmorph/data/t1_mix/proc/resize256-crop_x32/train/origs/ADNI_ADNI-3T-FS-5.3-Long_308100.long.041_S_4720_base_mri_talairach_orig.npz', '/data/ddmg/voxelmorph/data/t1_mix/proc/resize256-crop_x32/train/origs/GSP_101208_DQ73BH_FS_mri_talairach_orig.npz', '/data/ddmg/voxelmorph/data/t1_mix/proc/resize256-crop_x32/train/origs/OASIS_OAS1_0291_MR1_mri_talairach_orig.npz', '/data/ddmg/voxelmorph/data/t1_mix/proc/resize256-crop_x32/train/origs/GSP_100328_CA87HH_FS_mri_talairach_orig.npz', '/data/ddmg/voxelmorph/data/t1_mix/proc/resize256-crop_x32/train/origs/ADNI_ADNI-1.5T-FS-5.3-Long_103333.long.032_S_0147_base_mri_talairach_orig.npz', '/data/ddmg/voxelmorph/data/t1_mix/proc/resize256-crop_x32/train/origs/GSP_090709_WE83EH_FS_mri_talairach_orig.npz', '/data/ddmg/voxelmorph/data/t1_mix/proc/resize256-crop_x32/train/origs/ADNI_ADNI-3T-FS-5.3-Long_398370.long.126_S_2405_base_mri_talairach_orig.npz', '/data/ddmg/voxelmorph/data/t1_mix/proc/resize256-crop_x32/train/origs/ABIDE_50243_mri_talairach_orig.npz', '/data/ddmg/voxelmorph/data/t1_mix/proc/resize256-crop_x32/train/origs/ADNI_ADNI-1.5T-FS-5.3-Long_111236.long.031_S_1066_base_mri_talairach_orig.npz', '/data/ddmg/voxelmorph/data/t1_mix/proc/resize256-crop_x32/train/origs/ADHD200_OHSU_7333005_mri_talairach_orig.npz', '/data/ddmg/voxelmorph/data/t1_mix/proc/resize256-crop_x32/train/origs/GSP_090914_WJ88NK_FS_mri_talairach_orig.npz', '/data/ddmg/voxelmorph/data/t1_mix/proc/resize256-crop_x32/train/origs/ADNI_ADNI-1.5T-FS-5.3-Long_59725.long.116_S_0382_base_mri_talairach_orig.npz', '/data/ddmg/voxelmorph/data/t1_mix/proc/resize256-crop_x32/train/origs/ADHD200_NYU_10068_mri_talairach_orig.npz', '/data/ddmg/voxelmorph/data/t1_mix/proc/resize256-crop_x32/train/origs/GSP_100128_RX68QB_FS_mri_talairach_orig.npz', '/data/ddmg/voxelmorph/data/t1_mix/proc/resize256-crop_x32/train/origs/GSP_140604_UW83SK_FS_mri_talairach_orig.npz', '/data/ddmg/voxelmorph/data/t1_mix/proc/resize256-crop_x32/train/origs/ADNI_ADNI-1.5T-FS-5.3-Long_300291.long.041_S_1425_base_mri_talairach_orig.npz', '/data/ddmg/voxelmorph/data/t1_mix/proc/resize256-crop_x32/train/origs/ADNI_ADNI-3T-FS-5.3-Long_335944.long.031_S_4476_base_mri_talairach_orig.npz', '/data/ddmg/voxelmorph/data/t1_mix/proc/resize256-crop_x32/train/origs/ADNI_ADNI-3T-FS-5.3-Long_363274.long.033_S_4508_base_mri_talairach_orig.npz', '/data/ddmg/voxelmorph/data/t1_mix/proc/resize256-crop_x32/train/origs/GSP_090923_PH66XU_FS_mri_talairach_orig.npz', '/data/ddmg/voxelmorph/data/t1_mix/proc/resize256-crop_x32/train/origs/GSP_100526_TE48VB_FS_mri_talairach_orig.npz', '/data/ddmg/voxelmorph/data/t1_mix/proc/resize256-crop_x32/train/origs/ADNI_ADNI-1.5T-FS-5.3-Long_66051.long.094_S_1188_base_mri_talairach_orig.npz', '/data/ddmg/voxelmorph/data/t1_mix/proc/resize256-crop_x32/train/origs/PPMI_3612_mri_talairach_orig.npz', '/data/ddmg/voxelmorph/data/t1_mix/proc/resize256-crop_x32/train/origs/GSP_100308_CQ45RU_FS_mri_talairach_orig.npz', '/data/ddmg/voxelmorph/data/t1_mix/proc/resize256-crop_x32/train/origs/ADNI_ADNI-1.5T-FS-5.3-Long_69606.long.022_S_0544_base_mri_talairach_orig.npz', '/data/ddmg/voxelmorph/data/t1_mix/proc/resize256-crop_x32/train/origs/MCIC_Site_A_A00036298_mri_talairach_orig.npz', '/data/ddmg/voxelmorph/data/t1_mix/proc/resize256-crop_x32/train/origs/ADNI_ADNI-1.5T-FS-5.3-Long_119090.long.032_S_0479_base_mri_talairach_orig.npz', '/data/ddmg/voxelmorph/data/t1_mix/proc/resize256-crop_x32/train/origs/ADNI_ADNI-1.5T-FS-5.3-Long_119144.long.053_S_0389_base_mri_talairach_orig.npz', '/data/ddmg/voxelmorph/data/t1_mix/proc/resize256-crop_x32/train/origs/ADNI_ADNI-1.5T-FS-5.3-Long_294850.long.027_S_0408_base_mri_talairach_orig.npz', '/data/ddmg/voxelmorph/data/t1_mix/proc/resize256-crop_x32/train/origs/GSP_090724_ZN86HH_FS_mri_talairach_orig.npz', '/data/ddmg/voxelmorph/data/t1_mix/proc/resize256-crop_x32/train/origs/ADNI_ADNI-3T-FS-5.3-Long_140800.long.007_S_1222_base_mri_talairach_orig.npz', '/data/ddmg/voxelmorph/data/t1_mix/proc/resize256-crop_x32/train/origs/ADNI_ADNI-1.5T-FS-5.3-Long_122662.long.006_S_1130_base_mri_talairach_orig.npz', '/data/ddmg/voxelmorph/data/t1_mix/proc/resize256-crop_x32/train/origs/ADNI_ADNI-1.5T-FS-5.3-Long_118706.long.010_S_0067_base_mri_talairach_orig.npz', '/data/ddmg/voxelmorph/data/t1_mix/proc/resize256-crop_x32/train/origs/ADNI_ADNI-1.5T-FS-5.3-Long_163740.long.136_S_0429_base_mri_talairach_orig.npz', '/data/ddmg/voxelmorph/data/t1_mix/proc/resize256-crop_x32/train/origs/ADNI_ADNI-1.5T-FS-5.3-Long_85547.long.002_S_0955_base_mri_talairach_orig.npz', '/data/ddmg/voxelmorph/data/t1_mix/proc/resize256-crop_x32/train/origs/ADNI_ADNI-1.5T-FS-5.3-Long_217623.long.023_S_0625_base_mri_talairach_orig.npz']\n"
     ]
    },
    {
     "name": "stdout",
     "output_type": "stream",
     "text": [
      "Iter 0, loss [-0.05818331, -0.09308211, 0.0348988]\n",
      "Iter 1, loss [-0.050301313, -0.08935191, 0.039050594]\n",
      "Iter 2, loss [-0.07071841, -0.101206, 0.030487588]\n",
      "Iter 3, loss [-0.09183802, -0.11358444, 0.02174642]\n",
      "Iter 4, loss [-0.083317, -0.1019043, 0.018587306]\n",
      "Iter 5, loss [-0.056581948, -0.089390144, 0.032808196]\n",
      "Iter 6, loss [-0.092122994, -0.11414479, 0.022021791]\n",
      "Iter 7, loss [-0.10455403, -0.12136755, 0.01681352]\n",
      "Iter 8, loss [-0.09463798, -0.11093454, 0.016296556]\n",
      "Iter 9, loss [-0.08198929, -0.100674294, 0.018685007]\n",
      "Iter 10, loss [-0.09467329, -0.11576111, 0.021087822]\n",
      "Iter 11, loss [-0.12049021, -0.14026627, 0.01977606]\n",
      "Iter 12, loss [-0.10219734, -0.123732395, 0.021535054]\n",
      "Iter 13, loss [-0.10797404, -0.13128772, 0.023313683]\n",
      "Iter 14, loss [-0.103027984, -0.12799522, 0.024967235]\n",
      "Iter 15, loss [-0.11368598, -0.13993223, 0.026246246]\n",
      "Iter 16, loss [-0.108465195, -0.1351181, 0.026652902]\n",
      "Iter 17, loss [-0.120730236, -0.15085594, 0.030125704]\n",
      "Iter 18, loss [-0.11061436, -0.14249158, 0.031877216]\n",
      "Iter 19, loss [-0.11764216, -0.14789523, 0.030253073]\n",
      "Iter 20, loss [-0.14652266, -0.17876638, 0.032243732]\n",
      "Iter 21, loss [-0.106565565, -0.14228156, 0.035715997]\n",
      "Iter 22, loss [-0.124556884, -0.16262762, 0.03807074]\n",
      "Iter 23, loss [-0.11431247, -0.1526811, 0.038368624]\n",
      "Iter 24, loss [-0.13867973, -0.17226943, 0.033589706]\n",
      "Iter 25, loss [-0.15869057, -0.19127025, 0.032579675]\n",
      "Iter 26, loss [-0.11690578, -0.1555009, 0.038595125]\n",
      "Iter 27, loss [-0.14676198, -0.18259928, 0.035837293]\n",
      "Iter 28, loss [-0.1478076, -0.18493445, 0.037126854]\n",
      "Iter 29, loss [-0.15587974, -0.18940204, 0.033522308]\n",
      "Iter 30, loss [-0.124774665, -0.163557, 0.038782325]\n",
      "Iter 31, loss [-0.16730373, -0.19982511, 0.032521386]\n",
      "Iter 32, loss [-0.14612806, -0.18498348, 0.038855426]\n",
      "Iter 33, loss [-0.15368488, -0.1835328, 0.029847926]\n"
     ]
    }
   ],
   "source": [
    "n_train_iters = 50000\n",
    "vol_gen = ds.gen_vols_batch(['labeled_train', 'unlabeled_train'], batch_size=1, randomize=True)\n",
    "print(ds.files_labeled_train + ds.files_unlabeled_train)\n",
    "#vol_gen = data_utils.gen_batch(X_unlabeled, X_unlabeled, batch_size=1, randomize=True)\n",
    "target_X, _ = next(vol_gen)\n",
    "zeros_flow = np.zeros(target_X.shape[:-1] + (3,))\n",
    "\n",
    "for bi in range(n_train_iters + 1):\n",
    "    \n",
    "    target_X, _ = next(vol_gen)\n",
    "    \n",
    "    # subject-to-atlas training\n",
    "    vm_losses = voxelmorph_model.train_on_batch([target_X, source_X], [source_X, zeros_flow])\n",
    "    #[source_X, target_X], [target_X, zeros_flow])\n",
    "    print('Iter {}, loss {}'.format(bi, vm_losses))\n",
    "    \n",
    "    if bi > 0 and bi % 2000 == 0:\n",
    "        voxelmorph_model.save('./experiments/voxelmorph/vm2_cc_AtoUMS_nd_100k_vm2ij_ftiter{}.h5'.format(start_iter + bi))"
   ]
  },
  {
   "cell_type": "code",
   "execution_count": null,
   "metadata": {},
   "outputs": [],
   "source": [
    "IPython.display.display(PIL.Image.fromarray(source_X[0, :, :, 112, :]))\n",
    "IPython.display.display(PIL.Image.fromarray(target_X[0, :, :, 112, :]))\n",
    "preds = voxelmorph_model.predict([source_X, target_X])\n",
    "IPython.display.display(PIL.Image.fromarray(target_X[0, :, :, 112, :]))\n"
   ]
  },
  {
   "cell_type": "code",
   "execution_count": null,
   "metadata": {},
   "outputs": [],
   "source": [
    "# # save a voxelmorph wrapper\n",
    "\n",
    "# from keras.layers import Input, Lambda\n",
    "# from keras.models import Model, load_model\n",
    "# import sys\n",
    "# sys.path.append('../voxelmorph/src')\n",
    "# from dense_3D_spatial_transformer import Dense3DSpatialTransformer\n",
    "\n",
    "\n",
    "\n",
    "# import os\n",
    "# import tensorflow as tf\n",
    "# import keras.backend as K\n",
    "# gpu_ids = [2]\n",
    "# # set gpu id and tf settings\n",
    "# os.environ['CUDA_VISIBLE_DEVICES']=','.join([str(g) for g in gpu_ids])\n",
    "# config = tf.ConfigProto()\n",
    "# config.gpu_options.allow_growth = True\n",
    "# K.tensorflow_backend.set_session(tf.Session(config=config))\n",
    "\n",
    "\n",
    "\n",
    "# voxelmorph_model = load_model(\n",
    "#     #'/afs/csail.mit.edu/u/x/xamyzhao/voxelmorph/models/vm2_cc.h5',\n",
    "#     './experiments/voxelmorph/vm2_cc_AtoUMS_newdataset_iter100000.h5',#.format(start_iter),\n",
    "#     custom_objects={'Dense3DSpatialTransformer': Dense3DSpatialTransformer},\n",
    "#     compile=False,\n",
    "# )\n",
    "\n",
    "# vol_shape = (160, 224, 192, 1)\n",
    "# input_src = Input(vol_shape)\n",
    "# input_tgt = Input(vol_shape)\n",
    "\n",
    "# warped, flow = voxelmorph_model([input_src, input_tgt])\n",
    "# flow = Lambda(lambda x:tf.gather(x, [1, 0, 2], axis=-1))(flow)  # reverse rows, cols\n",
    "\n",
    "# wrapper_model = Model(inputs=[input_src, input_tgt], outputs=[flow, warped], name='vm2_cc_wrapper')\n",
    "# wrapper_model.summary()\n",
    "# wrapper_model.save('./experiments/voxelmorph/vm2_cc_AtoUMS_newdataset_iter100000_wrapper.h5')"
   ]
  },
  {
   "cell_type": "code",
   "execution_count": null,
   "metadata": {},
   "outputs": [],
   "source": []
  },
  {
   "cell_type": "code",
   "execution_count": null,
   "metadata": {},
   "outputs": [],
   "source": []
  },
  {
   "cell_type": "code",
   "execution_count": null,
   "metadata": {},
   "outputs": [],
   "source": []
  }
 ],
 "metadata": {
  "kernelspec": {
   "display_name": "Python 3",
   "language": "python",
   "name": "python3"
  },
  "language_info": {
   "codemirror_mode": {
    "name": "ipython",
    "version": 3
   },
   "file_extension": ".py",
   "mimetype": "text/x-python",
   "name": "python",
   "nbconvert_exporter": "python",
   "pygments_lexer": "ipython3",
   "version": "3.6.6"
  }
 },
 "nbformat": 4,
 "nbformat_minor": 2
}
